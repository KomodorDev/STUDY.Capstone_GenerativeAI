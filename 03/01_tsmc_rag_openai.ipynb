{
 "cells": [
  {
   "cell_type": "code",
   "execution_count": 1,
   "id": "b31d81b8",
   "metadata": {},
   "outputs": [],
   "source": [
    "from langchain.text_splitter import RecursiveCharacterTextSplitter\n",
    "from langchain.embeddings import OpenAIEmbeddings\n",
    "from langchain_community.embeddings import OllamaEmbeddings\n",
    "from langchain.vectorstores import Chroma\n",
    "from langchain.chains import RetrievalQA\n",
    "from pypdf import PdfReader\n",
    "from langchain.document_loaders import PyPDFLoader\n",
    "from langchain.llms import OpenAI\n",
    "import faiss\n",
    "from langchain_community.docstore.in_memory import InMemoryDocstore\n",
    "from langchain_community.vectorstores import FAISS\n",
    "from langchain_openai import ChatOpenAI\n",
    "\n",
    "# SAH:\n",
    "from langchain_community.embeddings import OllamaEmbeddings\n",
    "from langchain_community.vectorstores import FAISS"
   ]
  },
  {
   "cell_type": "code",
   "execution_count": null,
   "id": "49a2b22d",
   "metadata": {},
   "outputs": [],
   "source": [
    "import os\n",
    "import json\n",
    "import pandas as pd\n",
    "import glob\n",
    "from openai import OpenAI"
   ]
  },
  {
   "cell_type": "code",
   "execution_count": null,
   "id": "a20a402a",
   "metadata": {},
   "outputs": [],
   "source": [
    "# Get all PDFs inside the tsmc folder\n",
    "pdf_files = glob.glob(\"./tsmc/*.pdf\")"
   ]
  },
  {
   "cell_type": "code",
   "execution_count": null,
   "id": "9d9a72a9",
   "metadata": {},
   "outputs": [],
   "source": [
    "# Load & split documents from all PDFs\n",
    "all_docs = []\n",
    "text_splitter = RecursiveCharacterTextSplitter(chunk_size=500, chunk_overlap=50)\n",
    "\n",
    "for pdf in pdf_files:\n",
    "    loader = PyPDFLoader(pdf)\n",
    "    data = loader.load()\n",
    "    texts = text_splitter.split_documents(data)\n",
    "    all_docs.extend(texts)"
   ]
  },
  {
   "cell_type": "code",
   "execution_count": 7,
   "id": "55743024",
   "metadata": {},
   "outputs": [],
   "source": [
    "# Use Ollama embeddings with a supported model\n",
    "\"\"\" embeddings = OpenAIEmbeddings(model=\"text-embedding-3-large\") \"\"\"\n",
    "# SAH:\n",
    "embeddings = OllamaEmbeddings(model=\"nomic-embed-text\") "
   ]
  },
  {
   "cell_type": "code",
   "execution_count": null,
   "id": "7147395d",
   "metadata": {},
   "outputs": [],
   "source": [
    "\"\"\" os.environ[\"OPENAI_API_KEY\"] = \"sk-XXX\" #Replace with your OpenAI API key \"\"\""
   ]
  },
  {
   "cell_type": "code",
   "execution_count": null,
   "id": "1dbfca31",
   "metadata": {},
   "outputs": [],
   "source": [
    "from langchain_core.vectorstores import InMemoryVectorStore\n",
    "\n",
    "vector_store = InMemoryVectorStore.from_documents(all_docs, embeddings)"
   ]
  },
  {
   "cell_type": "code",
   "execution_count": null,
   "id": "6a22e66b",
   "metadata": {},
   "outputs": [
    {
     "name": "stdout",
     "output_type": "stream",
     "text": [
      "✅ Total PDFs: 0\n",
      "✅ Total chunks stored: 0\n"
     ]
    }
   ],
   "source": [
    "print(f\"✅ Total PDFs: {len(pdf_files)}\")\n",
    "print(f\"✅ Total chunks stored: {len(all_docs)}\")"
   ]
  },
  {
   "cell_type": "code",
   "execution_count": null,
   "id": "e0c89006",
   "metadata": {},
   "outputs": [],
   "source": [
    "first_chunk = all_docs[102]\n",
    "print(\"=== Page Content ===\")\n",
    "print(first_chunk.page_content)\n",
    "print(\"=== Metadata ===\")\n",
    "print(first_chunk.metadata)"
   ]
  },
  {
   "cell_type": "code",
   "execution_count": null,
   "id": "acaed015",
   "metadata": {},
   "outputs": [],
   "source": [
    "#Use GPT-4o\n",
    "\n",
    "llm = ChatOpenAI(\n",
    "    model=\"gpt-4o\",\n",
    "    temperature=0,\n",
    "    openai_api_key=os.environ.get(\"OPENAI_API_KEY\")\n",
    ")\n"
   ]
  },
  {
   "cell_type": "code",
   "execution_count": null,
   "id": "7183ca9a",
   "metadata": {},
   "outputs": [],
   "source": [
    "#Build RetrievalQA\n",
    "qa_chain = RetrievalQA.from_chain_type(\n",
    "    llm=llm,\n",
    "    retriever=vector_store.as_retriever(),\n",
    "    return_source_documents=True\n",
    ")"
   ]
  },
  {
   "cell_type": "code",
   "execution_count": null,
   "id": "0b6f7f3b",
   "metadata": {},
   "outputs": [],
   "source": [
    "#Run a query\n",
    "query = \"Tell the key points about TSMC's 3nm technology from the documents.\"\n",
    "result = qa_chain({\"query\": query})\n",
    "\n",
    "print(result[\"result\"])"
   ]
  }
 ],
 "metadata": {
  "kernelspec": {
   "display_name": "Python 3 (ipykernel)",
   "language": "python",
   "name": "python3"
  }
 },
 "nbformat": 4,
 "nbformat_minor": 5
}
