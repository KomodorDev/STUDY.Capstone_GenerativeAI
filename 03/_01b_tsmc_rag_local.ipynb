{
 "cells": [
  {
   "cell_type": "code",
   "execution_count": 3,
   "id": "b31d81b8",
   "metadata": {},
   "outputs": [],
   "source": [
    "from langchain.text_splitter import RecursiveCharacterTextSplitter\n",
    "from langchain.embeddings import OpenAIEmbeddings\n",
    "from langchain_community.embeddings import OllamaEmbeddings\n",
    "from langchain.vectorstores import Chroma\n",
    "from langchain.chains import RetrievalQA\n",
    "from pypdf import PdfReader\n",
    "from langchain.document_loaders import PyPDFLoader\n",
    "from langchain.llms import OpenAI\n",
    "import faiss\n",
    "from langchain_community.docstore.in_memory import InMemoryDocstore\n",
    "from langchain_community.vectorstores import FAISS"
   ]
  },
  {
   "cell_type": "code",
   "execution_count": 4,
   "id": "49a2b22d",
   "metadata": {},
   "outputs": [],
   "source": [
    "import os\n",
    "import json\n",
    "import pandas as pd\n",
    "import glob\n",
    "from openai import OpenAI"
   ]
  },
  {
   "cell_type": "code",
   "execution_count": 5,
   "id": "a20a402a",
   "metadata": {},
   "outputs": [],
   "source": [
    "#Get all PDFs inside the tsmc folder\n",
    "pdf_files = glob.glob(\"./tsmc/*.pdf\")"
   ]
  },
  {
   "cell_type": "code",
   "execution_count": 7,
   "id": "9d9a72a9",
   "metadata": {},
   "outputs": [],
   "source": [
    "#Load & split documents from all PDFs\n",
    "all_docs = []\n",
    "text_splitter = RecursiveCharacterTextSplitter(chunk_size=500, chunk_overlap=50)\n",
    "\n",
    "for pdf in pdf_files:\n",
    "    loader = PyPDFLoader(pdf)\n",
    "    data = loader.load()\n",
    "    texts = text_splitter.split_documents(data)\n",
    "    all_docs.extend(texts)"
   ]
  },
  {
   "cell_type": "code",
   "execution_count": 11,
   "id": "55743024",
   "metadata": {},
   "outputs": [],
   "source": [
    "#Use Ollama embeddings with a supported model\n",
    "embeddings = OllamaEmbeddings(model=\"mxbai-embed-large:335m\")"
   ]
  },
  {
   "cell_type": "code",
   "execution_count": 12,
   "id": "1dbfca31",
   "metadata": {},
   "outputs": [],
   "source": [
    "from langchain_core.vectorstores import InMemoryVectorStore\n",
    "\n",
    "vector_store = InMemoryVectorStore.from_documents(all_docs, embeddings)"
   ]
  },
  {
   "cell_type": "code",
   "execution_count": 8,
   "id": "6a22e66b",
   "metadata": {},
   "outputs": [
    {
     "name": "stdout",
     "output_type": "stream",
     "text": [
      "✅ Total PDFs: 18\n",
      "✅ Total chunks stored: 22476\n"
     ]
    }
   ],
   "source": [
    "print(f\"✅ Total PDFs: {len(pdf_files)}\")\n",
    "print(f\"✅ Total chunks stored: {len(all_docs)}\")"
   ]
  },
  {
   "cell_type": "code",
   "execution_count": 9,
   "id": "e0c89006",
   "metadata": {},
   "outputs": [
    {
     "name": "stdout",
     "output_type": "stream",
     "text": [
      "=== Page Content ===\n",
      "4.4 Compensation Committee\n",
      "The Compensation Committee assists the Board in discharging \n",
      "its responsibilities related to TSMC’s compensation and benefits \n",
      "policies, plans and programs, and in the evaluation and compensation \n",
      "of TSMC’s executives. The Committee meets at least four times a \n",
      "year.\n",
      "The Compensation Committee was comprised of four members. \n",
      "All three independent directors served as voting members of the \n",
      "Committee and the Chairman of the Board, Dr. Morris Chang,\n",
      "=== Metadata ===\n",
      "{'producer': 'Adobe Acrobat 8.0', 'creator': 'Adobe Acrobat 8.0 Combine Files', 'creationdate': '2011-12-07T17:43:42+08:00', 'moddate': '2011-12-07T17:48:52+08:00', 'source': './tsmc/TSMC CSR 2010.pdf', 'total_pages': 84, 'page': 15, 'page_label': '16'}\n"
     ]
    }
   ],
   "source": [
    "first_chunk = all_docs[102]\n",
    "print(\"=== Page Content ===\")\n",
    "print(first_chunk.page_content)\n",
    "print(\"=== Metadata ===\")\n",
    "print(first_chunk.metadata)"
   ]
  },
  {
   "cell_type": "code",
   "execution_count": null,
   "id": "138b443e",
   "metadata": {},
   "outputs": [],
   "source": [
    "import ollama\n",
    "from langchain_community.llms import Ollama"
   ]
  },
  {
   "cell_type": "code",
   "execution_count": 16,
   "id": "d6ef609c",
   "metadata": {},
   "outputs": [],
   "source": [
    "llm = Ollama(model='gpt-oss:120b')"
   ]
  },
  {
   "cell_type": "code",
   "execution_count": null,
   "id": "0d719605",
   "metadata": {},
   "outputs": [],
   "source": [
    "# SAH:\n",
    "qa_chain = RetrievalQA.from_chain_type(\n",
    "    llm=llm,\n",
    "    # The language model that will generate the final answer\n",
    "    # (e.g. GPT, Ollama model, etc.)\n",
    "    retriever=vector_store.as_retriever(),\n",
    "    # The retriever defines how to look up relevant chunks of text\n",
    "    # from your vector store. It embeds the question, finds similar\n",
    "    # embeddings in the store, and passes those chunks to the LLM.\n",
    "    return_source_documents=True\n",
    "    # If True, the chain will return not just the answer, but also\n",
    "    # the source documents (the retrieved chunks) that were fed\n",
    "    # into the LLM. Useful for transparency & debugging.\n",
    ")\n",
    "\n",
    "query = \"Tell the key points about TSMC's 3nm technology from the documents.\"\n",
    "result = qa_chain({\"query\": query})\n",
    "print(result[\"result\"])"
   ]
  },
  {
   "cell_type": "code",
   "execution_count": null,
   "id": "cd848981-793a-433f-80e1-15a2f6e5325a",
   "metadata": {},
   "outputs": [],
   "source": []
  }
 ],
 "metadata": {
  "kernelspec": {
   "display_name": "Python 3 (ipykernel)",
   "language": "python",
   "name": "python3"
  },
  "language_info": {
   "codemirror_mode": {
    "name": "ipython",
    "version": 3
   },
   "file_extension": ".py",
   "mimetype": "text/x-python",
   "name": "python",
   "nbconvert_exporter": "python",
   "pygments_lexer": "ipython3",
   "version": "3.10.18"
  }
 },
 "nbformat": 4,
 "nbformat_minor": 5
}
