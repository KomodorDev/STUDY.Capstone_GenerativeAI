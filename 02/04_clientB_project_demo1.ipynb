{
 "cells": [
  {
   "cell_type": "code",
   "execution_count": 1,
   "id": "e63499ca",
   "metadata": {},
   "outputs": [],
   "source": [
    "import tensorflow as tf\n",
    "import numpy as np\n",
    "\n",
    "# SAH:\n",
    "from tensorflow import keras\n",
    "\n",
    "from keras.preprocessing import image\n",
    "from openai import OpenAI"
   ]
  },
  {
   "cell_type": "code",
   "execution_count": 2,
   "id": "eb650253",
   "metadata": {},
   "outputs": [
    {
     "name": "stderr",
     "output_type": "stream",
     "text": [
      "WARNING: All log messages before absl::InitializeLog() is called are written to STDERR\n",
      "I0000 00:00:1758124992.986288  887822 gpu_device.cc:2022] Created device /job:localhost/replica:0/task:0/device:GPU:0 with 139554 MB memory:  -> device: 0, name: AMD Instinct MI300X, pci bus id: 0000:c6:00.0\n"
     ]
    }
   ],
   "source": [
    "## Load the trained transfer learning model\n",
    "model = tf.keras.models.load_model(\"models/week02/battery.keras\")"
   ]
  },
  {
   "cell_type": "code",
   "execution_count": 3,
   "id": "aecbc7b1",
   "metadata": {},
   "outputs": [],
   "source": [
    "# Load the test image and resize it to (224, 224)\n",
    "img_path = \"image/test_battery.jpg\"\n",
    "img = image.load_img(img_path, target_size=(224, 224))\n",
    "img_array = image.img_to_array(img)\n",
    "\n",
    "# Expand dimensions to match model input and normalize to [0, 1]\n",
    "img_array = np.expand_dims(img_array, axis=0) / 255.0   # Normalize to [0,1]"
   ]
  },
  {
   "cell_type": "code",
   "execution_count": 4,
   "id": "aac00f37",
   "metadata": {},
   "outputs": [
    {
     "name": "stderr",
     "output_type": "stream",
     "text": [
      "WARNING: All log messages before absl::InitializeLog() is called are written to STDERR\n",
      "I0000 00:00:1758125005.865282  888349 service.cc:148] XLA service 0x7fb11c006c20 initialized for platform ROCM (this does not guarantee that XLA will be used). Devices:\n",
      "I0000 00:00:1758125005.865325  888349 service.cc:156]   StreamExecutor device (0): AMD Instinct MI300X, AMDGPU ISA version: gfx942:sramecc+:xnack-\n",
      "2025-09-17 16:03:25.875380: I tensorflow/compiler/mlir/tensorflow/utils/dump_mlir_util.cc:268] disabling MLIR crash reproducer, set env var `MLIR_CRASH_REPRODUCER_DIRECTORY` to enable.\n"
     ]
    },
    {
     "name": "stdout",
     "output_type": "stream",
     "text": [
      "\u001b[1m1/1\u001b[0m \u001b[32m━━━━━━━━━━━━━━━━━━━━\u001b[0m\u001b[37m\u001b[0m \u001b[1m23s\u001b[0m 23s/step\n"
     ]
    },
    {
     "name": "stderr",
     "output_type": "stream",
     "text": [
      "I0000 00:00:1758125028.381707  888349 device_compiler.h:188] Compiled cluster using XLA!  This line is logged at most once for the lifetime of the process.\n"
     ]
    }
   ],
   "source": [
    "# Make predictions\n",
    "preds = model.predict(img_array)\n",
    "class_idx = np.argmax(preds, axis=1)[0]\n",
    "\n",
    "# Define classes (order must match the training model)\n",
    "classes = [\"normal\", \"laptop\"]   # Make sure the order matches your training data\n",
    "category = classes[class_idx]"
   ]
  },
  {
   "cell_type": "code",
   "execution_count": 5,
   "id": "c28b320f",
   "metadata": {},
   "outputs": [
    {
     "name": "stdout",
     "output_type": "stream",
     "text": [
      "normal\n"
     ]
    }
   ],
   "source": [
    "print(category)"
   ]
  },
  {
   "cell_type": "code",
   "execution_count": 6,
   "id": "3dc11872",
   "metadata": {},
   "outputs": [],
   "source": [
    "import ollama"
   ]
  },
  {
   "cell_type": "code",
   "execution_count": null,
   "id": "7ebf65a2",
   "metadata": {},
   "outputs": [
    {
     "name": "stdout",
     "output_type": "stream",
     "text": [
      "Identified brand: Energizer\n"
     ]
    }
   ],
   "source": [
    "# If the battery is classified as \"normal\", send it to ollama's gemma3:12b\n",
    "\n",
    "if category == \"normal\":\n",
    "    res = ollama.chat(\n",
    "\t\tmodel=\"gemma3:12b\",\n",
    "\t\tmessages=[\n",
    "\t\t\t{\n",
    "\t\t\t\t'role': 'user',\n",
    "\t\t\t\t'content': 'Tell me the brand of this battery. Just give me the brand name. Do not give other explanation and text. If you cannot recogize, Just tell us \"NA\":',\n",
    "\t\t\t\t'images': ['image/test_battery.jpg']\n",
    "\t\t\t}\n",
    "\t\t]\n",
    "\t)   \n",
    "    brand = res['message']['content']\n",
    "    print(\"Identified brand:\", brand)\n",
    "else:\n",
    "    print(\"This is a laptop battery. Brand identification will not be performed.\")"
   ]
  }
 ],
 "metadata": {
  "kernelspec": {
   "display_name": "Python 3 (ipykernel)",
   "language": "python",
   "name": "python3"
  }
 },
 "nbformat": 4,
 "nbformat_minor": 5
}
