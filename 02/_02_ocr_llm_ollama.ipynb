{
 "cells": [
  {
   "cell_type": "code",
   "execution_count": null,
   "id": "eefa5585",
   "metadata": {},
   "outputs": [],
   "source": [
    "import ollama"
   ]
  },
  {
   "cell_type": "code",
   "execution_count": null,
   "id": "021b3a01",
   "metadata": {},
   "outputs": [],
   "source": [
    "# SAH: Using Ollama's gemma3 model to classify battery brand from image\n",
    "# ollama pull gemma3:12b was done before running this script\n",
    "\n",
    "res = ollama.chat(\n",
    "\tmodel=\"gemma3:12b\",\n",
    "\tmessages=[\n",
    "\t\t{\n",
    "\t\t\t'role': 'user',\n",
    "\t\t\t'content': 'Tell me the brand of this battery. Just give me the brand name. Do not give other explanation and text. If you cannot recogize, Just tell us \"NA\":',\n",
    "\t\t\t'images': ['image/test_battery.jpg']\n",
    "\t\t}\n",
    "\t]\n",
    ")"
   ]
  },
  {
   "cell_type": "code",
   "execution_count": 3,
   "id": "0ce307f5",
   "metadata": {},
   "outputs": [
    {
     "name": "stdout",
     "output_type": "stream",
     "text": [
      "Energizer\n"
     ]
    }
   ],
   "source": [
    "print(res['message']['content'])"
   ]
  }
 ],
 "metadata": {
  "kernelspec": {
   "display_name": "Python 3 (ipykernel)",
   "language": "python",
   "name": "python3"
  },
  "language_info": {
   "codemirror_mode": {
    "name": "ipython",
    "version": 3
   },
   "file_extension": ".py",
   "mimetype": "text/x-python",
   "name": "python",
   "nbconvert_exporter": "python",
   "pygments_lexer": "ipython3",
   "version": "3.12.4"
  }
 },
 "nbformat": 4,
 "nbformat_minor": 5
}
