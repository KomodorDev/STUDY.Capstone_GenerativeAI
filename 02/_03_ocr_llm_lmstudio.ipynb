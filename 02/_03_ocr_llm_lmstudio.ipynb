{
 "cells": [
  {
   "cell_type": "code",
   "execution_count": 1,
   "id": "0db692da",
   "metadata": {},
   "outputs": [],
   "source": [
    "import lmstudio as lms"
   ]
  },
  {
   "cell_type": "code",
   "execution_count": null,
   "id": "2acfd690",
   "metadata": {},
   "outputs": [],
   "source": [
    "# SAH: Models need to be downloaded, but not loaded in LM Studio. LM Studio needs to run in background for that\n",
    "\n",
    "# Restart kernel if needed\n",
    "\n",
    "\n",
    "model = lms.llm(\"google/gemma-3-12b\")"
   ]
  },
  {
   "cell_type": "code",
   "execution_count": 3,
   "id": "f1ed15f7",
   "metadata": {},
   "outputs": [],
   "source": [
    "\n",
    "image_path = \"/Users/simonhinterreiter/Library/CloudStorage/Dropbox/06 - Coding/01 - Local Git Repos/02 - Mac/STUDY.Capstone_GenerativeAI/02/Images/picture.jpg\" # Replace with the path to your image\n",
    "image_handle = lms.prepare_image(image_path)"
   ]
  },
  {
   "cell_type": "code",
   "execution_count": null,
   "id": "7b689a22",
   "metadata": {},
   "outputs": [],
   "source": [
    "chat = lms.Chat()\n",
    "chat.add_user_message(\"Tell me the brand of this battery\", images=[image_handle])\n",
    "prediction = model.respond(chat)"
   ]
  },
  {
   "cell_type": "code",
   "execution_count": null,
   "id": "00152b47",
   "metadata": {},
   "outputs": [],
   "source": [
    "print(prediction)"
   ]
  }
 ],
 "metadata": {
  "kernelspec": {
   "display_name": ".venv",
   "language": "python",
   "name": "python3"
  },
  "language_info": {
   "codemirror_mode": {
    "name": "ipython",
    "version": 3
   },
   "file_extension": ".py",
   "mimetype": "text/x-python",
   "name": "python",
   "nbconvert_exporter": "python",
   "pygments_lexer": "ipython3",
   "version": "3.13.0"
  }
 },
 "nbformat": 4,
 "nbformat_minor": 5
}
