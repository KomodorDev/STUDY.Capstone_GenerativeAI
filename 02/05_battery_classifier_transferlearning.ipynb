{
 "cells": [
  {
   "cell_type": "code",
   "execution_count": null,
   "metadata": {
    "id": "NMWaUL4sV2Oc"
   },
   "outputs": [],
   "source": [
    "#####################################\n",
    "# 01. Import required libraries\n",
    "import glob\n",
    "import numpy as np\n",
    "import pandas as pd\n",
    "from PIL import Image\n",
    "import matplotlib.pyplot as plt\n"
   ]
  },
  {
   "cell_type": "code",
   "execution_count": 2,
   "metadata": {
    "id": "T2IOqfcVkRSd"
   },
   "outputs": [],
   "source": [
    "from pathlib import Path"
   ]
  },
  {
   "cell_type": "code",
   "execution_count": null,
   "metadata": {
    "id": "rqXr6HaYaqDi"
   },
   "outputs": [
    {
     "name": "stderr",
     "output_type": "stream",
     "text": [
      "2025-09-08 03:15:28.022872: I tensorflow/core/platform/cpu_feature_guard.cc:210] This TensorFlow binary is optimized to use available CPU instructions in performance-critical operations.\n",
      "To enable the following instructions: SSE3 SSE4.1 SSE4.2 AVX AVX2 AVX512F AVX512_VNNI AVX512_BF16 FMA, in other operations, rebuild TensorFlow with the appropriate compiler flags.\n"
     ]
    }
   ],
   "source": [
    "# SAH:\n",
    "from tensorflow import keras\n",
    "\n",
    "from keras.preprocessing.image import load_img, img_to_array\n",
    "from keras.utils import to_categorical\n",
    "from keras.models import Sequential\n",
    "from keras.layers import Conv2D, MaxPooling2D\n",
    "from keras.layers import Dense, Flatten\n",
    "from keras.optimizers import SGD"
   ]
  },
  {
   "cell_type": "code",
   "execution_count": null,
   "metadata": {
    "id": "RTkN3K6s23lp"
   },
   "outputs": [],
   "source": [
    "#####################################\n",
    "# 02. Set up file paths\n",
    "# Create filepaths for the laptop battery and mormal battery images\n",
    "filepath_laptop = \"image/battery/laptop/*\"\n",
    "filepath_normal = \"image/battery/normal/*\"\n"
   ]
  },
  {
   "cell_type": "code",
   "execution_count": null,
   "metadata": {
    "id": "EwJN9cPx3GuW"
   },
   "outputs": [],
   "source": [
    "#####################################\n",
    "# 03. Collect image file paths\n",
    "# Collect all the image filepaths into lists\n",
    "laptop_files = [file for file in glob.iglob(filepath_laptop)]\n",
    "normal_files = [file for file in glob.iglob(filepath_normal)]\n"
   ]
  },
  {
   "cell_type": "code",
   "execution_count": 6,
   "metadata": {
    "colab": {
     "base_uri": "https://localhost:8080/"
    },
    "id": "ocLOTGhh3nAs",
    "outputId": "c1e8e5c3-0081-4b5f-bf3d-ce3e3efcdef7",
    "scrolled": true
   },
   "outputs": [
    {
     "data": {
      "text/plain": [
       "['image/battery/normal/battery542.jpg',\n",
       " 'image/battery/normal/battery608.jpg',\n",
       " 'image/battery/normal/battery83.jpg',\n",
       " 'image/battery/normal/battery133.jpg',\n",
       " 'image/battery/normal/battery554.jpg',\n",
       " 'image/battery/normal/battery623.jpg',\n",
       " 'image/battery/normal/battery694.jpg',\n",
       " 'image/battery/normal/battery215.jpg',\n",
       " 'image/battery/normal/battery638.jpg',\n",
       " 'image/battery/normal/battery199.jpg',\n",
       " 'image/battery/normal/battery123.jpg',\n",
       " 'image/battery/normal/battery690.jpg',\n",
       " 'image/battery/normal/battery653.jpg',\n",
       " 'image/battery/normal/battery182.jpg',\n",
       " 'image/battery/normal/battery547.jpg',\n",
       " 'image/battery/normal/battery223.jpg',\n",
       " 'image/battery/normal/battery46.jpg',\n",
       " 'image/battery/normal/battery744.jpg',\n",
       " 'image/battery/normal/battery703.jpg',\n",
       " 'image/battery/normal/battery142.jpg',\n",
       " 'image/battery/normal/battery648.jpg',\n",
       " 'image/battery/normal/battery764.jpg',\n",
       " 'image/battery/normal/battery222.jpg',\n",
       " 'image/battery/normal/battery48.jpg',\n",
       " 'image/battery/normal/battery822.jpg',\n",
       " 'image/battery/normal/battery206.jpg',\n",
       " 'image/battery/normal/battery154.jpg',\n",
       " 'image/battery/normal/battery610.jpg',\n",
       " 'image/battery/normal/battery863.jpg',\n",
       " 'image/battery/normal/battery226.jpg',\n",
       " 'image/battery/normal/battery630.jpg',\n",
       " 'image/battery/normal/battery177.jpg',\n",
       " 'image/battery/normal/battery2.jpg',\n",
       " 'image/battery/normal/battery686.jpg',\n",
       " 'image/battery/normal/battery128.jpg',\n",
       " 'image/battery/normal/battery737.jpg',\n",
       " 'image/battery/normal/battery50.jpg',\n",
       " 'image/battery/normal/battery753.jpg',\n",
       " 'image/battery/normal/battery140.jpg',\n",
       " 'image/battery/normal/battery158.jpg',\n",
       " 'image/battery/normal/battery55.jpg',\n",
       " 'image/battery/normal/battery581.jpg',\n",
       " 'image/battery/normal/battery869.jpg',\n",
       " 'image/battery/normal/battery647.jpg',\n",
       " 'image/battery/normal/battery519.jpg',\n",
       " 'image/battery/normal/battery767.jpg',\n",
       " 'image/battery/normal/battery108.jpg',\n",
       " 'image/battery/normal/battery626.jpg',\n",
       " 'image/battery/normal/battery178.jpg',\n",
       " 'image/battery/normal/battery721.jpg',\n",
       " 'image/battery/normal/battery60.jpg',\n",
       " 'image/battery/normal/battery709.jpg',\n",
       " 'image/battery/normal/battery27.jpg',\n",
       " 'image/battery/normal/battery598.jpg',\n",
       " 'image/battery/normal/battery22.jpg',\n",
       " 'image/battery/normal/battery529.jpg',\n",
       " 'image/battery/normal/battery679.jpg',\n",
       " 'image/battery/normal/battery808.jpg',\n",
       " 'image/battery/normal/battery723.jpg',\n",
       " 'image/battery/normal/battery806.jpg',\n",
       " 'image/battery/normal/battery745.jpg',\n",
       " 'image/battery/normal/battery782.jpg',\n",
       " 'image/battery/normal/battery6.jpg',\n",
       " 'image/battery/normal/battery107.jpg',\n",
       " 'image/battery/normal/battery657.jpg',\n",
       " 'image/battery/normal/battery125.jpg',\n",
       " 'image/battery/normal/battery756.jpg',\n",
       " 'image/battery/normal/battery540.jpg',\n",
       " 'image/battery/normal/battery624.jpg',\n",
       " 'image/battery/normal/battery811.jpg',\n",
       " 'image/battery/normal/battery211.jpg',\n",
       " 'image/battery/normal/battery747.jpg',\n",
       " 'image/battery/normal/battery666.jpg',\n",
       " 'image/battery/normal/battery805.jpg',\n",
       " 'image/battery/normal/battery570.jpg',\n",
       " 'image/battery/normal/battery644.jpg',\n",
       " 'image/battery/normal/battery204.jpg',\n",
       " 'image/battery/normal/battery80.jpg',\n",
       " 'image/battery/normal/battery51.jpg',\n",
       " 'image/battery/normal/battery802.jpg',\n",
       " 'image/battery/normal/battery69.jpg',\n",
       " 'image/battery/normal/battery835.jpg',\n",
       " 'image/battery/normal/battery849.jpg',\n",
       " 'image/battery/normal/battery514.jpg',\n",
       " 'image/battery/normal/battery118.jpg',\n",
       " 'image/battery/normal/battery693.jpg',\n",
       " 'image/battery/normal/battery15.jpg',\n",
       " 'image/battery/normal/battery677.jpg',\n",
       " 'image/battery/normal/battery746.jpg',\n",
       " 'image/battery/normal/battery825.jpg',\n",
       " 'image/battery/normal/battery866.jpg',\n",
       " 'image/battery/normal/battery650.jpg',\n",
       " 'image/battery/normal/battery231.jpg',\n",
       " 'image/battery/normal/battery752.jpg',\n",
       " 'image/battery/normal/battery29.jpg',\n",
       " 'image/battery/normal/battery832.jpg',\n",
       " 'image/battery/normal/battery172.jpg',\n",
       " 'image/battery/normal/battery33.jpg',\n",
       " 'image/battery/normal/battery643.jpg',\n",
       " 'image/battery/normal/battery595.jpg',\n",
       " 'image/battery/normal/battery233.jpg',\n",
       " 'image/battery/normal/battery587.jpg',\n",
       " 'image/battery/normal/battery144.jpg',\n",
       " 'image/battery/normal/battery789.jpg',\n",
       " 'image/battery/normal/battery871.jpg',\n",
       " 'image/battery/normal/battery20.jpg',\n",
       " 'image/battery/normal/battery612.jpg',\n",
       " 'image/battery/normal/battery795.jpg',\n",
       " 'image/battery/normal/battery531.jpg',\n",
       " 'image/battery/normal/battery853.jpg',\n",
       " 'image/battery/normal/battery754.jpg',\n",
       " 'image/battery/normal/battery804.jpg',\n",
       " 'image/battery/normal/battery71.jpg',\n",
       " 'image/battery/normal/battery791.jpg',\n",
       " 'image/battery/normal/battery30.jpg',\n",
       " 'image/battery/normal/battery120.jpg',\n",
       " 'image/battery/normal/battery243.jpg',\n",
       " 'image/battery/normal/battery237.jpg',\n",
       " 'image/battery/normal/battery32.jpg',\n",
       " 'image/battery/normal/battery72.jpg',\n",
       " 'image/battery/normal/battery176.jpg',\n",
       " 'image/battery/normal/battery622.jpg',\n",
       " 'image/battery/normal/battery783.jpg',\n",
       " 'image/battery/normal/battery728.jpg',\n",
       " 'image/battery/normal/battery202.jpg',\n",
       " 'image/battery/normal/battery856.jpg',\n",
       " 'image/battery/normal/battery189.jpg',\n",
       " 'image/battery/normal/battery823.jpg',\n",
       " 'image/battery/normal/battery665.jpg',\n",
       " 'image/battery/normal/battery819.jpg',\n",
       " 'image/battery/normal/battery86.jpg',\n",
       " 'image/battery/normal/battery241.jpg',\n",
       " 'image/battery/normal/battery766.jpg',\n",
       " 'image/battery/normal/battery572.jpg',\n",
       " 'image/battery/normal/battery508.jpg',\n",
       " 'image/battery/normal/battery683.jpg',\n",
       " 'image/battery/normal/battery161.jpg',\n",
       " 'image/battery/normal/battery225.jpg',\n",
       " 'image/battery/normal/battery111.jpg',\n",
       " 'image/battery/normal/battery794.jpg',\n",
       " 'image/battery/normal/battery674.jpg',\n",
       " 'image/battery/normal/battery219.jpg',\n",
       " 'image/battery/normal/battery834.jpg',\n",
       " 'image/battery/normal/battery662.jpg',\n",
       " 'image/battery/normal/battery87.jpg',\n",
       " 'image/battery/normal/battery159.jpg',\n",
       " 'image/battery/normal/battery609.jpg',\n",
       " 'image/battery/normal/battery551.jpg',\n",
       " 'image/battery/normal/battery245.jpg',\n",
       " 'image/battery/normal/battery67.jpg',\n",
       " 'image/battery/normal/battery560.jpg',\n",
       " 'image/battery/normal/battery731.jpg',\n",
       " 'image/battery/normal/battery544.jpg',\n",
       " 'image/battery/normal/battery113.jpg',\n",
       " 'image/battery/normal/battery749.jpg',\n",
       " 'image/battery/normal/battery726.jpg',\n",
       " 'image/battery/normal/battery816.jpg',\n",
       " 'image/battery/normal/battery697.jpg',\n",
       " 'image/battery/normal/battery139.jpg',\n",
       " 'image/battery/normal/battery698.jpg',\n",
       " 'image/battery/normal/battery590.jpg',\n",
       " 'image/battery/normal/battery857.jpg',\n",
       " 'image/battery/normal/battery732.jpg',\n",
       " 'image/battery/normal/battery515.jpg',\n",
       " 'image/battery/normal/battery578.jpg',\n",
       " 'image/battery/normal/battery582.jpg',\n",
       " 'image/battery/normal/battery192.jpg',\n",
       " 'image/battery/normal/battery591.jpg',\n",
       " 'image/battery/normal/battery521.jpg',\n",
       " 'image/battery/normal/battery773.jpg',\n",
       " 'image/battery/normal/battery763.jpg',\n",
       " 'image/battery/normal/battery757.jpg',\n",
       " 'image/battery/normal/battery790.jpg',\n",
       " 'image/battery/normal/battery652.jpg',\n",
       " 'image/battery/normal/battery772.jpg',\n",
       " 'image/battery/normal/battery151.jpg',\n",
       " 'image/battery/normal/battery759.jpg',\n",
       " 'image/battery/normal/battery762.jpg',\n",
       " 'image/battery/normal/battery671.jpg',\n",
       " 'image/battery/normal/battery138.jpg',\n",
       " 'image/battery/normal/battery688.jpg',\n",
       " 'image/battery/normal/battery810.jpg',\n",
       " 'image/battery/normal/battery617.jpg',\n",
       " 'image/battery/normal/battery190.jpg',\n",
       " 'image/battery/normal/battery143.jpg',\n",
       " 'image/battery/normal/battery7.jpg',\n",
       " 'image/battery/normal/battery621.jpg',\n",
       " 'image/battery/normal/battery509.jpg',\n",
       " 'image/battery/normal/battery706.jpg',\n",
       " 'image/battery/normal/battery724.jpg',\n",
       " 'image/battery/normal/battery31.jpg',\n",
       " 'image/battery/normal/battery57.jpg',\n",
       " 'image/battery/normal/battery668.jpg',\n",
       " 'image/battery/normal/battery740.jpg',\n",
       " 'image/battery/normal/battery45.jpg',\n",
       " 'image/battery/normal/battery147.jpg',\n",
       " 'image/battery/normal/battery101.jpg',\n",
       " 'image/battery/normal/battery601.jpg',\n",
       " 'image/battery/normal/battery552.jpg',\n",
       " 'image/battery/normal/battery594.jpg',\n",
       " 'image/battery/normal/battery628.jpg',\n",
       " 'image/battery/normal/battery148.jpg',\n",
       " 'image/battery/normal/battery232.jpg',\n",
       " 'image/battery/normal/battery828.jpg',\n",
       " 'image/battery/normal/battery854.jpg',\n",
       " 'image/battery/normal/battery799.jpg',\n",
       " 'image/battery/normal/battery145.jpg',\n",
       " 'image/battery/normal/battery35.jpg',\n",
       " 'image/battery/normal/battery798.jpg',\n",
       " 'image/battery/normal/battery725.jpg',\n",
       " 'image/battery/normal/battery149.jpg',\n",
       " 'image/battery/normal/battery748.jpg',\n",
       " 'image/battery/normal/battery193.jpg',\n",
       " 'image/battery/normal/battery548.jpg',\n",
       " 'image/battery/normal/battery681.jpg',\n",
       " 'image/battery/normal/battery868.jpg',\n",
       " 'image/battery/normal/battery528.jpg',\n",
       " 'image/battery/normal/battery217.jpg',\n",
       " 'image/battery/normal/battery109.jpg',\n",
       " 'image/battery/normal/battery741.jpg',\n",
       " 'image/battery/normal/battery175.jpg',\n",
       " 'image/battery/normal/battery765.jpg',\n",
       " 'image/battery/normal/battery53.jpg',\n",
       " 'image/battery/normal/battery661.jpg',\n",
       " 'image/battery/normal/battery689.jpg',\n",
       " 'image/battery/normal/battery729.jpg',\n",
       " 'image/battery/normal/battery121.jpg',\n",
       " 'image/battery/normal/battery851.jpg',\n",
       " 'image/battery/normal/battery550.jpg',\n",
       " 'image/battery/normal/battery152.jpg',\n",
       " 'image/battery/normal/battery513.jpg',\n",
       " 'image/battery/normal/battery605.jpg',\n",
       " 'image/battery/normal/battery600.jpg',\n",
       " 'image/battery/normal/battery821.jpg',\n",
       " 'image/battery/normal/battery47.jpg',\n",
       " 'image/battery/normal/battery831.jpg',\n",
       " 'image/battery/normal/battery539.jpg',\n",
       " 'image/battery/normal/battery155.jpg',\n",
       " 'image/battery/normal/battery546.jpg',\n",
       " 'image/battery/normal/battery699.jpg',\n",
       " 'image/battery/normal/battery174.jpg',\n",
       " 'image/battery/normal/battery796.jpg',\n",
       " 'image/battery/normal/battery186.jpg',\n",
       " 'image/battery/normal/battery24.jpg',\n",
       " 'image/battery/normal/battery827.jpg',\n",
       " 'image/battery/normal/battery742.jpg',\n",
       " 'image/battery/normal/battery820.jpg',\n",
       " 'image/battery/normal/battery613.jpg',\n",
       " 'image/battery/normal/battery70.jpg',\n",
       " 'image/battery/normal/battery44.jpg',\n",
       " 'image/battery/normal/battery210.jpg',\n",
       " 'image/battery/normal/battery830.jpg',\n",
       " 'image/battery/normal/battery655.jpg',\n",
       " 'image/battery/normal/battery824.jpg',\n",
       " 'image/battery/normal/battery68.jpg',\n",
       " 'image/battery/normal/battery807.jpg',\n",
       " 'image/battery/normal/battery639.jpg',\n",
       " 'image/battery/normal/battery127.jpg',\n",
       " 'image/battery/normal/battery65.jpg',\n",
       " 'image/battery/normal/battery571.jpg',\n",
       " 'image/battery/normal/battery717.jpg',\n",
       " 'image/battery/normal/battery575.jpg',\n",
       " 'image/battery/normal/battery239.jpg',\n",
       " 'image/battery/normal/battery780.jpg',\n",
       " 'image/battery/normal/battery42.jpg',\n",
       " 'image/battery/normal/battery833.jpg',\n",
       " 'image/battery/normal/battery633.jpg',\n",
       " 'image/battery/normal/battery221.jpg',\n",
       " 'image/battery/normal/battery712.jpg',\n",
       " 'image/battery/normal/battery214.jpg',\n",
       " 'image/battery/normal/battery41.jpg',\n",
       " 'image/battery/normal/battery79.jpg',\n",
       " 'image/battery/normal/battery17.jpg',\n",
       " 'image/battery/normal/battery541.jpg',\n",
       " 'image/battery/normal/battery555.jpg',\n",
       " 'image/battery/normal/battery201.jpg',\n",
       " 'image/battery/normal/battery667.jpg',\n",
       " 'image/battery/normal/battery809.jpg',\n",
       " 'image/battery/normal/battery855.jpg',\n",
       " 'image/battery/normal/battery562.jpg',\n",
       " 'image/battery/normal/battery195.jpg',\n",
       " 'image/battery/normal/battery62.jpg',\n",
       " 'image/battery/normal/battery205.jpg',\n",
       " 'image/battery/normal/battery207.jpg',\n",
       " 'image/battery/normal/battery813.jpg',\n",
       " 'image/battery/normal/battery234.jpg',\n",
       " 'image/battery/normal/battery561.jpg',\n",
       " 'image/battery/normal/battery696.jpg',\n",
       " 'image/battery/normal/battery844.jpg',\n",
       " 'image/battery/normal/battery602.jpg',\n",
       " 'image/battery/normal/battery695.jpg',\n",
       " 'image/battery/normal/battery678.jpg',\n",
       " 'image/battery/normal/battery611.jpg',\n",
       " 'image/battery/normal/battery768.jpg',\n",
       " 'image/battery/normal/battery770.jpg',\n",
       " 'image/battery/normal/battery632.jpg',\n",
       " 'image/battery/normal/battery579.jpg',\n",
       " 'image/battery/normal/battery537.jpg',\n",
       " 'image/battery/normal/battery861.jpg',\n",
       " 'image/battery/normal/battery191.jpg',\n",
       " 'image/battery/normal/battery507.jpg',\n",
       " 'image/battery/normal/battery734.jpg',\n",
       " 'image/battery/normal/battery510.jpg',\n",
       " 'image/battery/normal/battery818.jpg',\n",
       " 'image/battery/normal/battery124.jpg',\n",
       " 'image/battery/normal/battery815.jpg',\n",
       " 'image/battery/normal/battery518.jpg',\n",
       " 'image/battery/normal/battery103.jpg',\n",
       " 'image/battery/normal/battery862.jpg',\n",
       " 'image/battery/normal/battery112.jpg',\n",
       " 'image/battery/normal/battery596.jpg',\n",
       " 'image/battery/normal/battery702.jpg',\n",
       " 'image/battery/normal/battery588.jpg',\n",
       " 'image/battery/normal/battery26.jpg',\n",
       " 'image/battery/normal/battery620.jpg',\n",
       " 'image/battery/normal/battery110.jpg',\n",
       " 'image/battery/normal/battery839.jpg',\n",
       " 'image/battery/normal/battery646.jpg',\n",
       " 'image/battery/normal/battery680.jpg',\n",
       " 'image/battery/normal/battery649.jpg',\n",
       " 'image/battery/normal/battery525.jpg',\n",
       " 'image/battery/normal/battery520.jpg',\n",
       " 'image/battery/normal/battery786.jpg',\n",
       " 'image/battery/normal/battery751.jpg',\n",
       " 'image/battery/normal/battery676.jpg',\n",
       " 'image/battery/normal/battery213.jpg',\n",
       " 'image/battery/normal/battery778.jpg',\n",
       " 'image/battery/normal/battery105.jpg',\n",
       " 'image/battery/normal/battery739.jpg',\n",
       " 'image/battery/normal/battery224.jpg',\n",
       " 'image/battery/normal/battery738.jpg',\n",
       " 'image/battery/normal/battery836.jpg',\n",
       " 'image/battery/normal/battery34.jpg',\n",
       " 'image/battery/normal/battery701.jpg',\n",
       " 'image/battery/normal/battery641.jpg',\n",
       " 'image/battery/normal/battery106.jpg',\n",
       " 'image/battery/normal/battery185.jpg',\n",
       " 'image/battery/normal/battery716.jpg',\n",
       " 'image/battery/normal/battery38.jpg',\n",
       " 'image/battery/normal/battery669.jpg',\n",
       " 'image/battery/normal/battery73.jpg',\n",
       " 'image/battery/normal/battery235.jpg',\n",
       " 'image/battery/normal/battery100.jpg',\n",
       " 'image/battery/normal/battery713.jpg',\n",
       " 'image/battery/normal/battery549.jpg',\n",
       " 'image/battery/normal/battery162.jpg',\n",
       " 'image/battery/normal/battery36.jpg',\n",
       " 'image/battery/normal/battery146.jpg',\n",
       " 'image/battery/normal/battery212.jpg',\n",
       " 'image/battery/normal/battery183.jpg',\n",
       " 'image/battery/normal/battery637.jpg',\n",
       " 'image/battery/normal/battery615.jpg',\n",
       " 'image/battery/normal/battery722.jpg',\n",
       " 'image/battery/normal/battery77.jpg',\n",
       " 'image/battery/normal/battery629.jpg',\n",
       " 'image/battery/normal/battery200.jpg',\n",
       " 'image/battery/normal/battery577.jpg',\n",
       " 'image/battery/normal/battery122.jpg',\n",
       " 'image/battery/normal/battery604.jpg',\n",
       " 'image/battery/normal/battery156.jpg',\n",
       " 'image/battery/normal/battery517.jpg',\n",
       " 'image/battery/normal/battery850.jpg',\n",
       " 'image/battery/normal/battery527.jpg',\n",
       " 'image/battery/normal/battery704.jpg',\n",
       " 'image/battery/normal/battery102.jpg',\n",
       " 'image/battery/normal/battery188.jpg',\n",
       " 'image/battery/normal/battery171.jpg',\n",
       " 'image/battery/normal/battery557.jpg',\n",
       " 'image/battery/normal/battery730.jpg',\n",
       " 'image/battery/normal/battery792.jpg',\n",
       " 'image/battery/normal/battery170.jpg',\n",
       " 'image/battery/normal/battery81.jpg',\n",
       " 'image/battery/normal/battery682.jpg',\n",
       " 'image/battery/normal/battery180.jpg',\n",
       " 'image/battery/normal/battery131.jpg',\n",
       " 'image/battery/normal/battery74.jpg',\n",
       " 'image/battery/normal/battery776.jpg',\n",
       " 'image/battery/normal/battery43.jpg',\n",
       " 'image/battery/normal/battery583.jpg',\n",
       " 'image/battery/normal/battery567.jpg',\n",
       " 'image/battery/normal/battery12.jpg',\n",
       " 'image/battery/normal/battery137.jpg',\n",
       " 'image/battery/normal/battery563.jpg',\n",
       " 'image/battery/normal/battery37.jpg',\n",
       " 'image/battery/normal/battery163.jpg',\n",
       " 'image/battery/normal/battery618.jpg',\n",
       " 'image/battery/normal/battery203.jpg',\n",
       " 'image/battery/normal/battery16.jpg',\n",
       " 'image/battery/normal/battery242.jpg',\n",
       " 'image/battery/normal/battery160.jpg',\n",
       " 'image/battery/normal/battery634.jpg',\n",
       " 'image/battery/normal/battery63.jpg',\n",
       " 'image/battery/normal/battery553.jpg',\n",
       " 'image/battery/normal/battery216.jpg',\n",
       " 'image/battery/normal/battery800.jpg',\n",
       " 'image/battery/normal/battery660.jpg',\n",
       " 'image/battery/normal/battery535.jpg',\n",
       " 'image/battery/normal/battery840.jpg',\n",
       " 'image/battery/normal/battery184.jpg',\n",
       " 'image/battery/normal/battery564.jpg',\n",
       " 'image/battery/normal/battery538.jpg',\n",
       " 'image/battery/normal/battery785.jpg',\n",
       " 'image/battery/normal/battery197.jpg',\n",
       " 'image/battery/normal/battery829.jpg',\n",
       " 'image/battery/normal/battery781.jpg',\n",
       " 'image/battery/normal/battery52.jpg',\n",
       " 'image/battery/normal/battery774.jpg',\n",
       " 'image/battery/normal/battery115.jpg',\n",
       " 'image/battery/normal/battery227.jpg',\n",
       " 'image/battery/normal/battery787.jpg',\n",
       " 'image/battery/normal/battery642.jpg',\n",
       " 'image/battery/normal/battery864.jpg',\n",
       " 'image/battery/normal/battery727.jpg',\n",
       " 'image/battery/normal/battery76.jpg',\n",
       " 'image/battery/normal/battery75.jpg',\n",
       " 'image/battery/normal/battery114.jpg',\n",
       " 'image/battery/normal/battery769.jpg',\n",
       " 'image/battery/normal/battery19.jpg',\n",
       " 'image/battery/normal/battery3.jpg',\n",
       " 'image/battery/normal/battery49.jpg',\n",
       " 'image/battery/normal/battery636.jpg',\n",
       " 'image/battery/normal/battery860.jpg',\n",
       " 'image/battery/normal/battery687.jpg',\n",
       " 'image/battery/normal/battery614.jpg',\n",
       " 'image/battery/normal/battery585.jpg',\n",
       " 'image/battery/normal/battery116.jpg',\n",
       " 'image/battery/normal/battery750.jpg',\n",
       " 'image/battery/normal/battery760.jpg',\n",
       " 'image/battery/normal/battery684.jpg',\n",
       " 'image/battery/normal/battery8.jpg',\n",
       " 'image/battery/normal/battery536.jpg',\n",
       " 'image/battery/normal/battery771.jpg',\n",
       " 'image/battery/normal/battery84.jpg',\n",
       " 'image/battery/normal/battery179.jpg',\n",
       " 'image/battery/normal/battery705.jpg',\n",
       " 'image/battery/normal/battery663.jpg',\n",
       " 'image/battery/normal/battery719.jpg',\n",
       " 'image/battery/normal/battery559.jpg',\n",
       " 'image/battery/normal/battery607.jpg',\n",
       " 'image/battery/normal/battery597.jpg',\n",
       " 'image/battery/normal/battery852.jpg',\n",
       " 'image/battery/normal/battery685.jpg',\n",
       " 'image/battery/normal/battery616.jpg',\n",
       " 'image/battery/normal/battery691.jpg',\n",
       " 'image/battery/normal/battery814.jpg',\n",
       " 'image/battery/normal/battery558.jpg',\n",
       " 'image/battery/normal/battery85.jpg',\n",
       " 'image/battery/normal/battery218.jpg',\n",
       " 'image/battery/normal/battery714.jpg',\n",
       " 'image/battery/normal/battery130.jpg',\n",
       " 'image/battery/normal/battery23.jpg',\n",
       " 'image/battery/normal/battery119.jpg',\n",
       " 'image/battery/normal/battery710.jpg',\n",
       " 'image/battery/normal/battery126.jpg',\n",
       " 'image/battery/normal/battery543.jpg',\n",
       " 'image/battery/normal/battery589.jpg',\n",
       " 'image/battery/normal/battery700.jpg',\n",
       " 'image/battery/normal/battery573.jpg',\n",
       " 'image/battery/normal/battery40.jpg',\n",
       " 'image/battery/normal/battery230.jpg',\n",
       " 'image/battery/normal/battery733.jpg',\n",
       " 'image/battery/normal/battery603.jpg',\n",
       " 'image/battery/normal/battery656.jpg',\n",
       " 'image/battery/normal/battery4.jpg',\n",
       " 'image/battery/normal/battery208.jpg',\n",
       " 'image/battery/normal/battery672.jpg',\n",
       " 'image/battery/normal/battery21.jpg',\n",
       " 'image/battery/normal/battery523.jpg',\n",
       " 'image/battery/normal/battery187.jpg',\n",
       " 'image/battery/normal/battery775.jpg',\n",
       " 'image/battery/normal/battery157.jpg',\n",
       " 'image/battery/normal/battery659.jpg',\n",
       " 'image/battery/normal/battery136.jpg',\n",
       " 'image/battery/normal/battery524.jpg',\n",
       " 'image/battery/normal/battery841.jpg',\n",
       " 'image/battery/normal/battery592.jpg',\n",
       " 'image/battery/normal/battery18.jpg',\n",
       " 'image/battery/normal/battery580.jpg',\n",
       " 'image/battery/normal/battery631.jpg',\n",
       " 'image/battery/normal/battery66.jpg',\n",
       " 'image/battery/normal/battery640.jpg',\n",
       " 'image/battery/normal/battery61.jpg',\n",
       " 'image/battery/normal/battery236.jpg',\n",
       " 'image/battery/normal/battery838.jpg',\n",
       " 'image/battery/normal/battery511.jpg',\n",
       " 'image/battery/normal/battery736.jpg',\n",
       " 'image/battery/normal/battery556.jpg',\n",
       " 'image/battery/normal/battery545.jpg',\n",
       " 'image/battery/normal/battery181.jpg',\n",
       " 'image/battery/normal/battery198.jpg',\n",
       " 'image/battery/normal/battery865.jpg',\n",
       " 'image/battery/normal/battery58.jpg',\n",
       " 'image/battery/normal/battery565.jpg',\n",
       " 'image/battery/normal/battery522.jpg',\n",
       " 'image/battery/normal/battery784.jpg',\n",
       " 'image/battery/normal/battery797.jpg',\n",
       " 'image/battery/normal/battery859.jpg',\n",
       " 'image/battery/normal/battery117.jpg',\n",
       " 'image/battery/normal/battery793.jpg',\n",
       " 'image/battery/normal/battery593.jpg',\n",
       " 'image/battery/normal/battery568.jpg',\n",
       " 'image/battery/normal/battery167.jpg',\n",
       " 'image/battery/normal/battery54.jpg',\n",
       " 'image/battery/normal/battery574.jpg',\n",
       " 'image/battery/normal/battery39.jpg',\n",
       " 'image/battery/normal/battery692.jpg',\n",
       " 'image/battery/normal/battery779.jpg',\n",
       " 'image/battery/normal/battery635.jpg',\n",
       " 'image/battery/normal/battery135.jpg',\n",
       " 'image/battery/normal/battery658.jpg',\n",
       " 'image/battery/normal/battery150.jpg',\n",
       " 'image/battery/normal/battery812.jpg',\n",
       " 'image/battery/normal/battery846.jpg',\n",
       " 'image/battery/normal/battery761.jpg',\n",
       " 'image/battery/normal/battery141.jpg',\n",
       " 'image/battery/normal/battery715.jpg',\n",
       " 'image/battery/normal/battery708.jpg',\n",
       " 'image/battery/normal/battery654.jpg',\n",
       " 'image/battery/normal/battery134.jpg',\n",
       " 'image/battery/normal/battery848.jpg',\n",
       " 'image/battery/normal/battery845.jpg',\n",
       " 'image/battery/normal/battery164.jpg',\n",
       " 'image/battery/normal/battery534.jpg',\n",
       " 'image/battery/normal/battery168.jpg',\n",
       " 'image/battery/normal/battery530.jpg',\n",
       " 'image/battery/normal/battery606.jpg',\n",
       " 'image/battery/normal/battery169.jpg',\n",
       " 'image/battery/normal/battery707.jpg',\n",
       " 'image/battery/normal/battery858.jpg',\n",
       " 'image/battery/normal/battery803.jpg',\n",
       " 'image/battery/normal/battery104.jpg',\n",
       " 'image/battery/normal/battery11.jpg',\n",
       " 'image/battery/normal/battery586.jpg',\n",
       " 'image/battery/normal/battery533.jpg',\n",
       " 'image/battery/normal/battery826.jpg',\n",
       " 'image/battery/normal/battery777.jpg',\n",
       " 'image/battery/normal/battery755.jpg',\n",
       " 'image/battery/normal/battery13.jpg',\n",
       " 'image/battery/normal/battery59.jpg',\n",
       " 'image/battery/normal/battery132.jpg',\n",
       " 'image/battery/normal/battery165.jpg',\n",
       " 'image/battery/normal/battery64.jpg',\n",
       " 'image/battery/normal/battery173.jpg',\n",
       " 'image/battery/normal/battery673.jpg',\n",
       " 'image/battery/normal/battery129.jpg',\n",
       " 'image/battery/normal/battery675.jpg',\n",
       " 'image/battery/normal/battery228.jpg',\n",
       " 'image/battery/normal/battery526.jpg',\n",
       " 'image/battery/normal/battery166.jpg',\n",
       " 'image/battery/normal/battery82.jpg',\n",
       " 'image/battery/normal/battery743.jpg',\n",
       " 'image/battery/normal/battery625.jpg',\n",
       " 'image/battery/normal/battery801.jpg',\n",
       " 'image/battery/normal/battery512.jpg',\n",
       " 'image/battery/normal/battery506.jpg',\n",
       " 'image/battery/normal/battery78.jpg',\n",
       " 'image/battery/normal/battery56.jpg',\n",
       " 'image/battery/normal/battery244.jpg',\n",
       " 'image/battery/normal/battery842.jpg',\n",
       " 'image/battery/normal/battery153.jpg',\n",
       " 'image/battery/normal/battery670.jpg',\n",
       " 'image/battery/normal/battery584.jpg',\n",
       " 'image/battery/normal/battery837.jpg',\n",
       " 'image/battery/normal/battery758.jpg',\n",
       " 'image/battery/normal/battery847.jpg',\n",
       " 'image/battery/normal/battery711.jpg',\n",
       " 'image/battery/normal/battery720.jpg',\n",
       " 'image/battery/normal/battery209.jpg',\n",
       " 'image/battery/normal/battery664.jpg',\n",
       " 'image/battery/normal/battery735.jpg',\n",
       " 'image/battery/normal/battery1.jpg',\n",
       " 'image/battery/normal/battery516.jpg',\n",
       " 'image/battery/normal/battery532.jpg',\n",
       " 'image/battery/normal/battery196.jpg',\n",
       " 'image/battery/normal/battery645.jpg',\n",
       " 'image/battery/normal/battery569.jpg',\n",
       " 'image/battery/normal/battery240.jpg',\n",
       " 'image/battery/normal/battery867.jpg',\n",
       " 'image/battery/normal/battery220.jpg',\n",
       " 'image/battery/normal/battery576.jpg',\n",
       " 'image/battery/normal/battery788.jpg',\n",
       " 'image/battery/normal/battery843.jpg',\n",
       " 'image/battery/normal/battery566.jpg',\n",
       " 'image/battery/normal/battery817.jpg',\n",
       " 'image/battery/normal/battery619.jpg',\n",
       " 'image/battery/normal/battery870.jpg',\n",
       " 'image/battery/normal/battery651.jpg',\n",
       " 'image/battery/normal/battery599.jpg',\n",
       " 'image/battery/normal/battery627.jpg',\n",
       " 'image/battery/normal/battery194.jpg',\n",
       " 'image/battery/normal/battery718.jpg',\n",
       " 'image/battery/normal/battery229.jpg']"
      ]
     },
     "execution_count": 6,
     "metadata": {},
     "output_type": "execute_result"
    }
   ],
   "source": [
    "normal_files"
   ]
  },
  {
   "cell_type": "code",
   "execution_count": null,
   "metadata": {
    "colab": {
     "base_uri": "https://localhost:8080/",
     "height": 349
    },
    "id": "t0-dp1AEUQjr",
    "outputId": "407569b6-3c63-4244-b43c-315ea2dbb029"
   },
   "outputs": [],
   "source": [
    "#####################################\n",
    "# 05. Convert lists to NumPy arrays\n",
    "#Create input(data) and output(target) dataset\n",
    "#Label laptop battery as 1, and normal battery as 0\n",
    "\n",
    "data = []\n",
    "target = []\n",
    "\n",
    "for lap in range(len(laptop_files)):\n",
    "    img = load_img(laptop_files[lap], target_size = (224, 224))\n",
    "    x = np.array(img)\n",
    "    data.append(x)\n",
    "    target.append(1) #Pizza: Label 1\n",
    "\n",
    "for nor in range(len(normal_files)):\n",
    "    img = load_img(normal_files[nor], target_size = (224, 224))\n",
    "    x = np.array(img)\n",
    "    data.append(x)\n",
    "    target.append(0) #Apple pie: Label 0"
   ]
  },
  {
   "cell_type": "code",
   "execution_count": 8,
   "metadata": {
    "id": "3NBl4hkEZ6xb"
   },
   "outputs": [],
   "source": [
    "data = np.array(data)\n",
    "target = np.array(target)"
   ]
  },
  {
   "cell_type": "code",
   "execution_count": null,
   "metadata": {
    "id": "c2tDhUWrl8kM"
   },
   "outputs": [],
   "source": [
    "data"
   ]
  },
  {
   "cell_type": "code",
   "execution_count": null,
   "metadata": {
    "id": "9L_29UymZ-0N"
   },
   "outputs": [
    {
     "data": {
      "text/plain": [
       "(851, 224, 224, 3)"
      ]
     },
     "execution_count": 10,
     "metadata": {},
     "output_type": "execute_result"
    }
   ],
   "source": [
    "#####################################\n",
    "# 06. Check data shapes\n",
    "data.shape"
   ]
  },
  {
   "cell_type": "code",
   "execution_count": 11,
   "metadata": {
    "id": "ddrmEXGSaCYb"
   },
   "outputs": [
    {
     "data": {
      "text/plain": [
       "(851,)"
      ]
     },
     "execution_count": 11,
     "metadata": {},
     "output_type": "execute_result"
    }
   ],
   "source": [
    "target.shape"
   ]
  },
  {
   "cell_type": "code",
   "execution_count": 13,
   "metadata": {
    "id": "l83rbmZdabN5"
   },
   "outputs": [],
   "source": [
    "from sklearn.model_selection import train_test_split"
   ]
  },
  {
   "cell_type": "code",
   "execution_count": 14,
   "metadata": {
    "id": "Lvu9tffgaelg"
   },
   "outputs": [],
   "source": [
    "#Separate data and target into train and test data.\n",
    "x_train, x_test, y_train, y_test = train_test_split(data, target,\n",
    "                                                    test_size = 0.2, #80/20\n",
    "                                                    random_state = 0)"
   ]
  },
  {
   "cell_type": "code",
   "execution_count": null,
   "metadata": {
    "id": "1zvY7hpzbgox"
   },
   "outputs": [],
   "source": [
    "x_train"
   ]
  },
  {
   "cell_type": "code",
   "execution_count": 16,
   "metadata": {
    "id": "NR02ZAddCj84"
   },
   "outputs": [
    {
     "data": {
      "text/plain": [
       "(224, 224, 3)"
      ]
     },
     "execution_count": 16,
     "metadata": {},
     "output_type": "execute_result"
    }
   ],
   "source": [
    "x_train[291].shape"
   ]
  },
  {
   "cell_type": "code",
   "execution_count": 17,
   "metadata": {
    "id": "350Nb0OfCtJG"
   },
   "outputs": [
    {
     "data": {
      "text/plain": [
       "680"
      ]
     },
     "execution_count": 17,
     "metadata": {},
     "output_type": "execute_result"
    }
   ],
   "source": [
    "len(x_train)"
   ]
  },
  {
   "cell_type": "code",
   "execution_count": 18,
   "metadata": {},
   "outputs": [
    {
     "data": {
      "text/plain": [
       "171"
      ]
     },
     "execution_count": 18,
     "metadata": {},
     "output_type": "execute_result"
    }
   ],
   "source": [
    "len(x_test)"
   ]
  },
  {
   "cell_type": "code",
   "execution_count": 19,
   "metadata": {},
   "outputs": [],
   "source": [
    "x_train = x_train.reshape(680, 224, 224, 3) / 255\n",
    "x_test = x_test.reshape(171, 224, 224, 3) / 255"
   ]
  },
  {
   "cell_type": "code",
   "execution_count": 20,
   "metadata": {
    "id": "1CthHrnuDHH3"
   },
   "outputs": [],
   "source": [
    "y_train = to_categorical(y_train, 2)\n",
    "y_test = to_categorical(y_test, 2)"
   ]
  },
  {
   "cell_type": "code",
   "execution_count": null,
   "metadata": {
    "id": "vAKblZ1mKKqh"
   },
   "outputs": [],
   "source": [
    "plt.imshow(x_train[291], cmap='Greys')"
   ]
  },
  {
   "cell_type": "code",
   "execution_count": null,
   "metadata": {},
   "outputs": [],
   "source": [
    "####transfer learning"
   ]
  },
  {
   "cell_type": "code",
   "execution_count": 31,
   "metadata": {},
   "outputs": [],
   "source": [
    "from tensorflow.keras.applications import ResNet50V2"
   ]
  },
  {
   "cell_type": "code",
   "execution_count": null,
   "metadata": {},
   "outputs": [],
   "source": [
    "resnet = ResNet50V2(include_top = False, pooling = \"avg\")"
   ]
  },
  {
   "cell_type": "code",
   "execution_count": 31,
   "metadata": {},
   "outputs": [],
   "source": [
    "#We just want to use ResNet50v2's params.\n",
    "resnet.trainable = False"
   ]
  },
  {
   "cell_type": "code",
   "execution_count": 49,
   "metadata": {},
   "outputs": [],
   "source": [
    "model = Sequential()"
   ]
  },
  {
   "cell_type": "code",
   "execution_count": 50,
   "metadata": {},
   "outputs": [],
   "source": [
    "model.add(resnet)"
   ]
  },
  {
   "cell_type": "code",
   "execution_count": 51,
   "metadata": {},
   "outputs": [],
   "source": [
    "model.add(Dense(2, activation = 'sigmoid'))"
   ]
  },
  {
   "cell_type": "code",
   "execution_count": 52,
   "metadata": {},
   "outputs": [],
   "source": [
    "model.compile(loss='binary_crossentropy',\n",
    "              optimizer='adam',\n",
    "              metrics=['accuracy'])"
   ]
  },
  {
   "cell_type": "code",
   "execution_count": null,
   "metadata": {},
   "outputs": [],
   "source": [
    "model.fit(x_train, y_train, batch_size=100, epochs = 25)"
   ]
  },
  {
   "cell_type": "code",
   "execution_count": null,
   "metadata": {},
   "outputs": [],
   "source": [
    "score = model.evaluate(x_test, y_test)"
   ]
  },
  {
   "cell_type": "code",
   "execution_count": 55,
   "metadata": {},
   "outputs": [],
   "source": [
    "model.save('models/battery_01/battery_transfer.keras')"
   ]
  },
  {
   "cell_type": "code",
   "execution_count": null,
   "metadata": {},
   "outputs": [],
   "source": []
  }
 ],
 "metadata": {
  "accelerator": "GPU",
  "colab": {
   "gpuType": "T4",
   "provenance": []
  },
  "kernelspec": {
   "display_name": ".venv",
   "language": "python",
   "name": "python3"
  },
  "language_info": {
   "name": "python",
   "version": "3.13.0"
  }
 },
 "nbformat": 4,
 "nbformat_minor": 4
}
