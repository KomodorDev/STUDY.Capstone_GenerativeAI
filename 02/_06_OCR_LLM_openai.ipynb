{
 "cells": [
  {
   "cell_type": "code",
   "execution_count": 1,
   "id": "d568b92c",
   "metadata": {},
   "outputs": [],
   "source": [
    "from openai import OpenAI\n",
    "# SAH:\n",
    "from dotenv import load_dotenv"
   ]
  },
  {
   "cell_type": "code",
   "execution_count": 2,
   "id": "353593e4",
   "metadata": {},
   "outputs": [
    {
     "name": "stdout",
     "output_type": "stream",
     "text": [
      "API key loaded ✅\n"
     ]
    }
   ],
   "source": [
    "import os\n",
    "import getpass\n",
    "\n",
    "\n",
    "# SAH: Load from .env if it exists\n",
    "load_dotenv()\n",
    "\n",
    "# Locally:\n",
    "api_key = os.getenv(\"OPENAI_API_KEY\")\n",
    "\n",
    "# If not found, ask interactively - Jupyter Server\n",
    "if not api_key:\n",
    "    api_key = getpass.getpass(\"Enter your OpenAI API key: \")\n",
    "    # inject into environment for libraries that expect it\n",
    "    os.environ[\"OPENAI_API_KEY\"] = api_key\n",
    "\n",
    "print(\"API key loaded ✅\" if api_key else \"No API key found ❌\")"
   ]
  },
  {
   "cell_type": "code",
   "execution_count": 3,
   "id": "0fe31837",
   "metadata": {},
   "outputs": [],
   "source": [
    "client = OpenAI()"
   ]
  },
  {
   "cell_type": "code",
   "execution_count": 4,
   "id": "8468e52f",
   "metadata": {},
   "outputs": [],
   "source": [
    "import base64\n",
    "\n",
    "# Read and encode your local image\n",
    "with open(\"image/test_battery.jpg\", \"rb\") as img_file:\n",
    "    base64_image = base64.b64encode(img_file.read()).decode('utf-8')\n",
    "\n",
    "# Create the data URL\n",
    "image_data_url = f\"data:image/jpeg;base64,{base64_image}\"\n",
    "\n",
    "# Use this in your API call\n",
    "response = client.responses.create(\n",
    "    model=\"gpt-4.1-mini\",\n",
    "    input=[{\n",
    "        \"role\": \"user\",\n",
    "        \"content\": [\n",
    "            {\"type\": \"input_text\", \"text\": \"Tell me the brand of this battery. Just give me the brand name. Do not give other explanation and text. If you cannot recogize, Just tell us NA:\"},\n",
    "            {\n",
    "                \"type\": \"input_image\",\n",
    "                \"image_url\": image_data_url,\n",
    "            },\n",
    "        ],\n",
    "    }],\n",
    ")"
   ]
  },
  {
   "cell_type": "code",
   "execution_count": 5,
   "id": "54b1bf54",
   "metadata": {},
   "outputs": [
    {
     "name": "stdout",
     "output_type": "stream",
     "text": [
      "Energizer\n"
     ]
    }
   ],
   "source": [
    "print(response.output_text)"
   ]
  }
 ],
 "metadata": {
  "kernelspec": {
   "display_name": "Python 3 (ipykernel)",
   "language": "python",
   "name": "python3"
  },
  "language_info": {
   "codemirror_mode": {
    "name": "ipython",
    "version": 3
   },
   "file_extension": ".py",
   "mimetype": "text/x-python",
   "name": "python",
   "nbconvert_exporter": "python",
   "pygments_lexer": "ipython3",
   "version": "3.12.4"
  }
 },
 "nbformat": 4,
 "nbformat_minor": 5
}
