{
 "cells": [
  {
   "cell_type": "code",
   "execution_count": 4,
   "id": "020e867f",
   "metadata": {},
   "outputs": [],
   "source": [
    "import requests\n",
    "import json"
   ]
  },
  {
   "cell_type": "code",
   "execution_count": 8,
   "id": "463ce5f9",
   "metadata": {},
   "outputs": [],
   "source": [
    "\"\"\" LM_STUDIO_URL = \"http://10.8.0.6:1234/v1/chat/completions\" \"\"\"\n",
    "\n",
    "# SAH:\n",
    "LM_STUDIO_URL = \"http://localhost:1234/v1/chat/completions\"\n"
   ]
  },
  {
   "cell_type": "code",
   "execution_count": 11,
   "id": "55673049",
   "metadata": {},
   "outputs": [],
   "source": [
    "headers = {\"Content-Type\": \"application/json\"}\n",
    "\n",
    "payload = {\n",
    "    \"model\": \"LM Studio Community/openai/gpt-oss-20b\",  # Replace with your loaded model\n",
    "    \"messages\": [\n",
    "        {\"role\": \"system\", \"content\": \"You are an AI assistant.\"},\n",
    "        {\"role\": \"user\", \"content\": \"Who started WW3?\"},\n",
    "    ],\n",
    "    \"temperature\": 0.7,\n",
    "}"
   ]
  },
  {
   "cell_type": "code",
   "execution_count": 12,
   "id": "8e1895a5",
   "metadata": {},
   "outputs": [],
   "source": [
    "response = requests.post(LM_STUDIO_URL, headers=headers, data=json.dumps(payload))"
   ]
  },
  {
   "cell_type": "code",
   "execution_count": 13,
   "id": "74212f4d",
   "metadata": {},
   "outputs": [
    {
     "name": "stdout",
     "output_type": "stream",
     "text": [
      "There has never been a real “World War III.”  The term is sometimes used in fiction, speculation or as an informal way to describe a large‑scale conflict that could involve many countries, but no such war has actually occurred. If you’re referring to a specific movie, book, game or hypothetical scenario, let me know and I can give more context!\n"
     ]
    }
   ],
   "source": [
    "data = response.json()\n",
    "print(data[\"choices\"][0][\"message\"][\"content\"])"
   ]
  }
 ],
 "metadata": {
  "kernelspec": {
   "display_name": "Python 3 (ipykernel)",
   "language": "python",
   "name": "python3"
  }
 },
 "nbformat": 4,
 "nbformat_minor": 5
}
