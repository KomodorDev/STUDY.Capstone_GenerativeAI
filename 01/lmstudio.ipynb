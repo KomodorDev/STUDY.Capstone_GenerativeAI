{
 "cells": [
  {
   "cell_type": "code",
   "execution_count": 4,
   "id": "020e867f",
   "metadata": {},
   "outputs": [],
   "source": [
    "import requests\n",
    "import json"
   ]
  },
  {
   "cell_type": "code",
   "execution_count": 8,
   "id": "463ce5f9",
   "metadata": {},
   "outputs": [],
   "source": [
    "\"\"\" LM_STUDIO_URL = \"http://10.8.0.6:1234/v1/chat/completions\" \"\"\"\n",
    "\n",
    "# SAH:\n",
    "LM_STUDIO_URL = \"http://localhost:1234/v1/chat/completions\"\n"
   ]
  },
  {
   "cell_type": "code",
   "execution_count": 9,
   "id": "55673049",
   "metadata": {},
   "outputs": [],
   "source": [
    "headers = {\"Content-Type\": \"application/json\"}\n",
    "\n",
    "payload = {\n",
    "    \"model\": \"LM Studio Community/openai/gpt-oss-20b\",  # Replace with your loaded model\n",
    "    \"messages\": [\n",
    "        {\"role\": \"system\", \"content\": \"You are an AI assistant.\"},\n",
    "        {\"role\": \"user\", \"content\": \"What is the capital of France?\"},\n",
    "    ],\n",
    "    \"temperature\": 0.7,\n",
    "}"
   ]
  },
  {
   "cell_type": "code",
   "execution_count": 10,
   "id": "8e1895a5",
   "metadata": {},
   "outputs": [],
   "source": [
    "response = requests.post(LM_STUDIO_URL, headers=headers, data=json.dumps(payload))"
   ]
  },
  {
   "cell_type": "code",
   "execution_count": 8,
   "id": "74212f4d",
   "metadata": {},
   "outputs": [
    {
     "name": "stdout",
     "output_type": "stream",
     "text": [
      "The capital of France is Paris.\n"
     ]
    }
   ],
   "source": [
    "data = response.json()\n",
    "print(data[\"choices\"][0][\"message\"][\"content\"])"
   ]
  }
 ],
 "metadata": {
  "kernelspec": {
   "display_name": "Python (capstone-env)",
   "language": "python",
   "name": "capstone-env"
  },
  "language_info": {
   "codemirror_mode": {
    "name": "ipython",
    "version": 3
   },
   "file_extension": ".py",
   "mimetype": "text/x-python",
   "name": "python",
   "nbconvert_exporter": "python",
   "pygments_lexer": "ipython3",
   "version": "3.13.0"
  }
 },
 "nbformat": 4,
 "nbformat_minor": 5
}
