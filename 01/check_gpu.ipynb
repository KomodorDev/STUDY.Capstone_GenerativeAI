{
 "cells": [
  {
   "cell_type": "code",
   "execution_count": 2,
   "id": "9369424c",
   "metadata": {},
   "outputs": [],
   "source": [
    "import tensorflow as tf\n",
    "import time"
   ]
  },
  {
   "cell_type": "code",
   "execution_count": null,
   "id": "0842eec1",
   "metadata": {},
   "outputs": [
    {
     "name": "stdout",
     "output_type": "stream",
     "text": [
      "TensorFlow version: 2.18.1\n",
      "Available GPUs: [PhysicalDevice(name='/physical_device:GPU:0', device_type='GPU')]\n",
      "Devices: [LogicalDevice(name='/device:CPU:0', device_type='CPU'), LogicalDevice(name='/device:GPU:0', device_type='GPU')]\n"
     ]
    }
   ],
   "source": [
    "#Check GPU's availability\n",
    "print(\"TensorFlow version:\", tf.__version__)\n",
    "print(\"Available GPUs:\", tf.config.list_physical_devices('GPU'))\n",
    "\n",
    "\n",
    "# SAH - above only detects CUDA GPUs:\n",
    "print(\"Devices:\", tf.config.list_logical_devices())"
   ]
  },
  {
   "cell_type": "code",
   "execution_count": 72,
   "id": "89ba346c",
   "metadata": {},
   "outputs": [
    {
     "name": "stdout",
     "output_type": "stream",
     "text": [
      "tf.Tensor(\n",
      "[[ -18.492746  -150.29597    -55.037186  ... -132.34265     69.95327\n",
      "    49.981804 ]\n",
      " [  19.386145   127.27653     28.845688  ...    4.240809   143.35512\n",
      "   -56.937675 ]\n",
      " [  26.144295   -89.41465      4.639019  ...   30.176863   -87.75157\n",
      "  -124.530975 ]\n",
      " ...\n",
      " [ 106.44761    104.55684    -56.92011   ...   83.17267   -156.88216\n",
      "   186.56197  ]\n",
      " [ -27.184938     1.9619256  -39.409046  ...   35.0755      38.316406\n",
      "   151.64046  ]\n",
      " [   8.101102    20.13578     -4.832792  ...  -44.538284    24.197973\n",
      "   -41.622124 ]], shape=(10000, 10000), dtype=float32)\n"
     ]
    }
   ],
   "source": [
    "# Create two large random matrices\n",
    "a = tf.random.normal([10000, 10000])\n",
    "b = tf.random.normal([10000, 10000])\n",
    "\n",
    "# SAH:\n",
    "c = tf.matmul(a, b)\n",
    "print(c)"
   ]
  },
  {
   "cell_type": "code",
   "execution_count": 73,
   "id": "1417c24c",
   "metadata": {},
   "outputs": [
    {
     "name": "stdout",
     "output_type": "stream",
     "text": [
      "CPU Time: 6.26148533821106\n"
     ]
    }
   ],
   "source": [
    "# Perform matrix multiplication on CPU\n",
    "with tf.device(\"/CPU:0\"):\n",
    "    start = time.time()\n",
    "    c = tf.matmul(a, b)\n",
    "    print(\"CPU Time:\", time.time() - start)\n"
   ]
  },
  {
   "cell_type": "code",
   "execution_count": null,
   "id": "c864a80b",
   "metadata": {},
   "outputs": [
    {
     "name": "stdout",
     "output_type": "stream",
     "text": [
      "GPU Time: 0.059827566146850586\n",
      "[PhysicalDevice(name='/physical_device:CPU:0', device_type='CPU'), PhysicalDevice(name='/physical_device:GPU:0', device_type='GPU')]\n",
      "[LogicalDevice(name='/device:CPU:0', device_type='CPU'), LogicalDevice(name='/device:GPU:0', device_type='GPU')]\n"
     ]
    }
   ],
   "source": [
    "# Perform matrix multiplication on GPU\n",
    "with tf.device(\"/GPU:0\"):\n",
    "    start = time.time()\n",
    "    c = tf.matmul(a, b)\n",
    "    print(\"GPU Time:\", time.time() - start)\n",
    "    \n",
    "    print(tf.config.list_physical_devices())\n",
    "    print(tf.config.list_logical_devices())"
   ]
  }
 ],
 "metadata": {
  "kernelspec": {
   "display_name": "3.13.0",
   "language": "python",
   "name": "python3"
  },
  "language_info": {
   "codemirror_mode": {
    "name": "ipython",
    "version": 3
   },
   "file_extension": ".py",
   "mimetype": "text/x-python",
   "name": "python",
   "nbconvert_exporter": "python",
   "pygments_lexer": "ipython3",
   "version": "3.13.0"
  }
 },
 "nbformat": 4,
 "nbformat_minor": 5
}
