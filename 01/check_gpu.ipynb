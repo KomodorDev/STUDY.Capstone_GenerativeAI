{
 "cells": [
  {
   "cell_type": "code",
   "execution_count": 2,
   "id": "9369424c",
   "metadata": {},
   "outputs": [],
   "source": [
    "import tensorflow as tf\n",
    "import time"
   ]
  },
  {
   "cell_type": "code",
   "execution_count": 4,
   "id": "0842eec1",
   "metadata": {},
   "outputs": [
    {
     "name": "stdout",
     "output_type": "stream",
     "text": [
      "TensorFlow version: 2.20.0\n",
      "Available GPUs: []\n",
      "Devices: [LogicalDevice(name='/device:CPU:0', device_type='CPU')]\n"
     ]
    }
   ],
   "source": [
    "#Check GPU's availability\n",
    "print(\"TensorFlow version:\", tf.__version__)\n",
    "print(\"Available GPUs:\", tf.config.list_physical_devices('GPU'))\n",
    "\n",
    "\n",
    "# SAH - above only detects CUDA GPUs:\n",
    "print(\"Devices:\", tf.config.list_logical_devices())"
   ]
  },
  {
   "cell_type": "code",
   "execution_count": 8,
   "id": "89ba346c",
   "metadata": {},
   "outputs": [
    {
     "name": "stdout",
     "output_type": "stream",
     "text": [
      "tf.Tensor(\n",
      "[[   3.2286444   58.284103    -2.3903408 ...    1.0296731  -93.249596\n",
      "  -143.8692   ]\n",
      " [-144.12082    -20.84987    -36.71384   ...  109.79145     96.53635\n",
      "    20.576046 ]\n",
      " [  90.75495     32.018234   154.69981   ...   45.92627   -123.647125\n",
      "   173.96046  ]\n",
      " ...\n",
      " [  57.36107    202.26216     -5.730528  ... -223.71935    -42.66597\n",
      "   -14.742573 ]\n",
      " [  63.57053   -238.74545    -34.304893  ...  -34.080475   301.37842\n",
      "   -68.955826 ]\n",
      " [ 121.720726   106.40855     16.359776  ...   10.547716    -6.8772306\n",
      "  -135.0267   ]], shape=(10000, 10000), dtype=float32)\n"
     ]
    }
   ],
   "source": [
    "# Create two large random matrices\n",
    "a = tf.random.normal([10000, 10000])\n",
    "b = tf.random.normal([10000, 10000])\n",
    "\n",
    "# SAH:\n",
    "c = tf.matmul(a, b)\n",
    "print(c)"
   ]
  },
  {
   "cell_type": "code",
   "execution_count": 11,
   "id": "1417c24c",
   "metadata": {},
   "outputs": [
    {
     "name": "stdout",
     "output_type": "stream",
     "text": [
      "CPU Time: 2.985611915588379\n"
     ]
    }
   ],
   "source": [
    "# Perform matrix multiplication on CPU\n",
    "with tf.device(\"/CPU:0\"):\n",
    "    start = time.time()\n",
    "    c = tf.matmul(a, b)\n",
    "    print(\"CPU Time:\", time.time() - start)\n"
   ]
  },
  {
   "cell_type": "code",
   "execution_count": 15,
   "id": "c864a80b",
   "metadata": {},
   "outputs": [
    {
     "name": "stdout",
     "output_type": "stream",
     "text": [
      "GPU Time: 3.0228018760681152\n",
      "[PhysicalDevice(name='/physical_device:CPU:0', device_type='CPU')]\n",
      "[LogicalDevice(name='/device:CPU:0', device_type='CPU')]\n"
     ]
    }
   ],
   "source": [
    "# Perform matrix multiplication on GPU\n",
    "with tf.device(\"/GPU:0\"):\n",
    "    start = time.time()\n",
    "    c = tf.matmul(a, b)\n",
    "    print(\"GPU Time:\", time.time() - start)\n",
    "    \n",
    "    print(tf.config.list_physical_devices())\n",
    "    print(tf.config.list_logical_devices())"
   ]
  }
 ],
 "metadata": {
  "kernelspec": {
   "display_name": "Python (capstone-env)",
   "language": "python",
   "name": "capstone-env"
  },
  "language_info": {
   "codemirror_mode": {
    "name": "ipython",
    "version": 3
   },
   "file_extension": ".py",
   "mimetype": "text/x-python",
   "name": "python",
   "nbconvert_exporter": "python",
   "pygments_lexer": "ipython3",
   "version": "3.13.0"
  }
 },
 "nbformat": 4,
 "nbformat_minor": 5
}
